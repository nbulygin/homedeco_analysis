{
 "cells": [
  {
   "cell_type": "markdown",
   "metadata": {},
   "source": [
    "# Home Deco Business Analysis - Exploratory Data Analysis\n",
    "\n",
    "This notebook contains the exploratory data analysis of the Home Deco business data, focusing on:\n",
    "1. Sales trends and patterns\n",
    "2. Customer behavior analysis\n",
    "3. Marketing campaign performance\n",
    "4. Web traffic analysis"
   ]
  },
  {
   "cell_type": "code",
   "execution_count": null,
   "metadata": {},
   "outputs": [],
   "source": [
    "# Import required libraries\n",
    "import pandas as pd\n",
    "import numpy as np\n",
    "import seaborn as sns\n",
    "import matplotlib.pyplot as plt\n",
    "\n",
    "# Set style for all visualizations\n",
    "plt.style.use('seaborn-whitegrid')\n",
    "sns.set_palette('Greys')\n",
    "\n",
    "# Display settings\n",
    "pd.set_option('display.max_columns', None)\n",
    "pd.set_option('display.float_format', lambda x: '%.2f' % x)"
   ]
  },
  {
   "cell_type": "markdown",
   "metadata": {},
   "source": [
    "## 1. Data Loading and Initial Exploration"
   ]
  },
  {
   "cell_type": "code",
   "execution_count": null,
   "metadata": {},
   "outputs": [],
   "source": [
    "# Load datasets\n",
    "monthly_sales = pd.read_excel('../data/monthly_sales_ads_data.xlsx')\n",
    "daily_clients = pd.read_excel('../data/daily_clients.xlsx')\n",
    "daily_web = pd.read_excel('../data/daily_web_traffic.xlsx')\n",
    "clients_sorted = pd.read_excel('../data/df_clients_daily_sorted.xlsx')"
   ]
  },
  {
   "cell_type": "code",
   "execution_count": null,
   "metadata": {},
   "outputs": [],
   "source": [
    "# Display basic information about each dataset\n",
    "for name, df in {\n",
    "    'Monthly Sales': monthly_sales,\n",
    "    'Daily Clients': daily_clients,\n",
    "    'Daily Web Traffic': daily_web,\n",
    "    'Clients Sorted': clients_sorted\n",
    "}.items():\n",
    "    print(f'\\n{name} Dataset:')\n",
    "    print(f'Shape: {df.shape}')\n",
    "    print('\\nColumns:')\n",
    "    print(df.columns.tolist())\n",
    "    print('\\nSample:')\n",
    "    print(df.head())\n",
    "    print('\\nData Types:')\n",
    "    print(df.dtypes)\n",
    "    print('\\nMissing Values:')\n",
    "    print(df.isnull().sum())"
   ]
  },
  {
   "cell_type": "markdown",
   "metadata": {},
   "source": [
    "## 2. Sales Trends and Patterns"
   ]
  },
  {
   "cell_type": "code",
   "execution_count": null,
   "metadata": {},
   "outputs": [],
   "source": [
    "# Monthly sales analysis\n",
    "plt.figure(figsize=(12, 6))\n",
    "sns.lineplot(data=monthly_sales, x='dateMonth', y='subtotal_usd')\n",
    "plt.title('Monthly Sales Trend')\n",
    "plt.xticks(rotation=45)\n",
    "plt.tight_layout()\n",
    "plt.show()\n",
    "\n",
    "# Calculate key metrics\n",
    "monthly_metrics = monthly_sales.agg({\n",
    "    'subtotal_usd': ['mean', 'std', 'min', 'max'],\n",
    "    'n_items': ['mean', 'std', 'min', 'max']\n",
    "}).round(2)\n",
    "print(\"\\nMonthly Sales Metrics:\")\n",
    "print(monthly_metrics)\n",
    "\n",
    "# Quarterly analysis\n",
    "quarterly_sales = monthly_sales.groupby('quarter')['subtotal_usd'].agg(['mean', 'sum']).round(2)\n",
    "print(\"\\nQuarterly Sales Analysis:\")\n",
    "print(quarterly_sales)"
   ]
  },
  {
   "cell_type": "markdown",
   "metadata": {},
   "source": [
    "## 3. Customer Behavior Analysis"
   ]
  },
  {
   "cell_type": "code",
   "execution_count": null,
   "metadata": {},
   "outputs": [],
   "source": [
    "# Daily customer analysis\n",
    "daily_metrics = daily_clients.agg({\n",
    "    'n_transactions': ['mean', 'std', 'min', 'max'],\n",
    "    'n_unique_customers': ['mean', 'std', 'min', 'max']\n",
    "}).round(2)\n",
    "print(\"\\nDaily Customer Metrics:\")\n",
    "print(daily_metrics)\n",
    "\n",
    "# Plot daily transactions vs unique customers\n",
    "plt.figure(figsize=(12, 6))\n",
    "plt.plot(daily_clients['date'], daily_clients['n_transactions'], label='Transactions')\n",
    "plt.plot(daily_clients['date'], daily_clients['n_unique_customers'], label='Unique Customers')\n",
    "plt.title('Daily Transactions vs Unique Customers')\n",
    "plt.legend()\n",
    "plt.xticks(rotation=45)\n",
    "plt.tight_layout()\n",
    "plt.show()"
   ]
  },
  {
   "cell_type": "markdown",
   "metadata": {},
   "source": [
    "## 4. Web Traffic Analysis"
   ]
  },
  {
   "cell_type": "code",
   "execution_count": null,
   "metadata": {},
   "outputs": [],
   "source": [
    "# Daily web traffic analysis\n",
    "web_metrics = daily_web.agg({\n",
    "    'sessions': ['mean', 'std', 'min', 'max'],\n",
    "    'pageviews': ['mean', 'std', 'min', 'max'],\n",
    "    'users': ['mean', 'std', 'min', 'max']\n",
    "}).round(2)\n",
    "print(\"\\nWeb Traffic Metrics:\")\n",
    "print(web_metrics)\n",
    "\n",
    "# Plot web traffic metrics\n",
    "plt.figure(figsize=(12, 6))\n",
    "plt.plot(daily_web['date'], daily_web['sessions'], label='Sessions')\n",
    "plt.plot(daily_web['date'], daily_web['users'], label='Users')\n",
    "plt.title('Daily Web Traffic')\n",
    "plt.legend()\n",
    "plt.xticks(rotation=45)\n",
    "plt.tight_layout()\n",
    "plt.show()"
   ]
  },
  {
   "cell_type": "markdown",
   "metadata": {},
   "source": [
    "## 5. Calculate KPI"
   ]
  },
  {
   "cell_type": "code",
   "execution_count": null,
   "metadata": {},
   "outputs": [],
   "source": [
    "# Calculate conversion rates\n",
    "daily_merged = pd.merge(daily_clients, daily_web, on='date', how='inner')\n",
    "daily_merged['conversion_rate'] = (daily_merged['n_transactions'] / daily_merged['sessions'] * 100).round(2)\n",
    "\n",
    "print(\"\\nConversion Rate Statistics:\")\n",
    "print(daily_merged['conversion_rate'].describe())\n",
    "\n",
    "# Plot conversion rate trend\n",
    "plt.figure(figsize=(12, 6))\n",
    "plt.plot(daily_merged['date'], daily_merged['conversion_rate'])\n",
    "plt.title('Daily Conversion Rate')\n",
    "plt.ylabel('Conversion Rate (%)')\n",
    "plt.xticks(rotation=45)\n",
    "plt.tight_layout()\n",
    "plt.show()"
   ]
  }
 ],
 "metadata": {
  "kernelspec": {
   "display_name": "Python 3",
   "language": "python",
   "name": "python3"
  },
  "language_info": {
   "codemirror_mode": {
    "name": "ipython",
    "version": 3
   },
   "file_extension": ".py",
   "mimetype": "text/x-python",
   "name": "python",
   "nbconvert_exporter": "python",
   "pygments_lexer": "ipython3",
   "version": "3.8.0"
  }
 },
 "nbformat": 4,
 "nbformat_minor": 4
}
